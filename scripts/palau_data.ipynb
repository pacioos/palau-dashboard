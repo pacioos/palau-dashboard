{
 "cells": [
  {
   "cell_type": "code",
   "execution_count": null,
   "metadata": {},
   "outputs": [],
   "source": [
    "import numpy as np\n",
    "import requests\n",
    "import xarray as xr\n",
    "from datetime import datetime, timedelta\n",
    "from zoneinfo import ZoneInfo\n",
    "import pandas as pd\n",
    "import os\n",
    "import calendar\n",
    "from netCDF4 import num2date\n",
    "import time\n",
    "from requests.adapters import HTTPAdapter\n",
    "from urllib3.util.retry import Retry\n",
    "\n",
    "# Palau lat/lon\n",
    "lat = 7.5150\n",
    "lon = 134.5825\n",
    "\n",
    "min_lat_ssh, max_lat_ssh = 7.0, 8.0\n",
    "min_lon_ssh, max_lon_ssh = 134.0, 135.0"
   ]
  },
  {
   "cell_type": "code",
   "execution_count": null,
   "metadata": {},
   "outputs": [],
   "source": [
    "def download_file(url, local_path, retries=5):\n",
    "    session = requests.Session()\n",
    "    retry = Retry(\n",
    "        total=retries,\n",
    "        backoff_factor=1,\n",
    "        status_forcelist=[502, 503, 504],\n",
    "        raise_on_status=False\n",
    "    )\n",
    "    session.mount(\"https://\", HTTPAdapter(max_retries=retry))\n",
    "\n",
    "    try:\n",
    "        with session.get(url, stream=True, timeout=60) as r:\n",
    "            r.raise_for_status()\n",
    "            with open(local_path, \"wb\") as f:\n",
    "                for chunk in r.iter_content(chunk_size=8192):\n",
    "                    if chunk:\n",
    "                        f.write(chunk)\n",
    "        print(f\"Downloaded: {url}\")\n",
    "    except Exception as e:\n",
    "        raise RuntimeError(f\"Download failed: {url}\\n{e}\")\n"
   ]
  },
  {
   "cell_type": "code",
   "execution_count": 4,
   "metadata": {},
   "outputs": [],
   "source": [
    "columns = [\"LastMonth\",\"Current\", \"Forecast\", \"Outlook\"]\n",
    "\n",
    "df = pd.DataFrame(columns=columns)\n",
    "\n",
    "source_df = pd.DataFrame(columns=columns)"
   ]
  },
  {
   "cell_type": "code",
   "execution_count": 5,
   "metadata": {},
   "outputs": [],
   "source": [
    "today_hst = datetime.now(ZoneInfo(\"Pacific/Honolulu\"))\n",
    "today_str = today_hst.strftime(\"%Y%m%d\")\n",
    "yest_hst = today_hst - timedelta(days=1)\n",
    "yest_str = yest_hst.strftime(\"%Y%m%d\")\n",
    "\n",
    "cycle = \"06\"\n",
    "\n",
    "today = datetime.utcnow()\n",
    "if today.month == 1:\n",
    "    last_month = 12\n",
    "    last_year = today.year - 1\n",
    "else:\n",
    "    last_month = today.month - 1\n",
    "    last_year = today.year\n",
    "\n",
    "last_month_str = f\"{calendar.month_abbr[last_month]} {last_year}\"  # e.g., \"Apr 2025\"\n",
    "\n",
    "months_since_1960 = (last_year - 1960) * 12 + (last_month - 1)\n",
    "t_value = months_since_1960 + 0.5 "
   ]
  },
  {
   "cell_type": "markdown",
   "metadata": {},
   "source": [
    "### Rainfall"
   ]
  },
  {
   "cell_type": "markdown",
   "metadata": {},
   "source": [
    "#### Rain Past Month"
   ]
  },
  {
   "cell_type": "markdown",
   "metadata": {},
   "source": [
    "Source: IRI [Link](https://iridl.ldeo.columbia.edu/maproom/Global/Precipitation/Anomaly.html)\n",
    "<br>\n",
    "Monthly precipitation anomalies in units of mm/month based upon precipitation estimates from the CAMS_OPI dataset. The period used for computing the climatology is 1991-2020"
   ]
  },
  {
   "cell_type": "code",
   "execution_count": 6,
   "metadata": {},
   "outputs": [],
   "source": [
    "base_url = \"https://iridl.ldeo.columbia.edu/SOURCES/.NOAA/.NCEP/.CPC/.CAMS_OPI/.v0208/.anomaly_9120/.prcp\"\n",
    "url = (\n",
    "    f\"{base_url}/T/%28days%20since%201960-01-01%29streamgridunitconvert\"\n",
    "    f\"/T/differential_mul/T/%28months%20since%201960-01-01%29streamgridunitconvert\"\n",
    "    f\"//units/%28mm/month%29def//long_name/%28Precipitation%20Anomaly%29def\"\n",
    "    f\"/DATA/-500/-450/-400/-350/-300/-250/-200/-150/-100/-50/-25/25/50/100/150/200/250/300/350/400/450/500/VALUES/prcp_anomaly_max500_colors2\"\n",
    "    f\"/Y/%285N%29%2810N%29RANGEEDGES/X/%28130E%29%28140E%29RANGEEDGES\"\n",
    "    f\"/T/%28{last_month_str}%29%28{last_month_str}%29RANGEEDGES/data.nc\"\n",
    ")\n",
    "\n",
    "filename = \"./data_files/rf_lastMonth.nc\"\n",
    "response = requests.get(url)\n",
    "\n",
    "with open(filename, 'wb') as f:\n",
    "    f.write(response.content)\n",
    "\n",
    "ds = xr.open_dataset(filename, decode_times=False)\n",
    "df.loc['Rain', 'LastMonth'] = ds['aprod'].sel(Y=lat, X=lon, T=t_value, method='nearest').values\n",
    "\n",
    "source_df.loc['Rain','LastMonth'] = 'https://iridl.ldeo.columbia.edu/maproom/Global/Precipitation/Anomaly.html'"
   ]
  },
  {
   "cell_type": "markdown",
   "metadata": {},
   "source": [
    "#### Rain Current"
   ]
  },
  {
   "cell_type": "markdown",
   "metadata": {},
   "source": [
    "Source: CFS\n",
    "<br>\n",
    "Using \"6\" cycle for 3PM but there is a notable lag for this data..."
   ]
  },
  {
   "cell_type": "code",
   "execution_count": null,
   "metadata": {},
   "outputs": [
    {
     "name": "stderr",
     "output_type": "stream",
     "text": [
      "Ignoring index file './data_files/rf_current.grb2.5b7b6.idx' older than GRIB file\n"
     ]
    }
   ],
   "source": [
    "grib_url = f\"https://nomads.ncep.noaa.gov/pub/data/nccf/com/cfs/prod/cfs.{today_str}/{cycle}/time_grib_01/prate.01.{today_str}{cycle}.daily.grb2\"\n",
    "idx_url = grib_url + \".idx\"\n",
    "\n",
    "grib_file = \"./data_files/rf_current.grb2\"\n",
    "idx_file = grib_file + \".idx\"\n",
    "\n",
    "download_file(grib_url, grib_file)\n",
    "download_file(idx_url, idx_file)\n",
    "\n",
    "ds = xr.open_dataset(grib_file, engine=\"cfgrib\")\n",
    "\n",
    "palau = ds.sel(latitude=lat,longitude=lon,method='nearest')\n",
    "rf_palau_df = palau[['prate']].to_dataframe().reset_index()\n",
    "\n",
    "palau_tz = ZoneInfo(\"Pacific/Palau\")\n",
    "now_palau = datetime.now(palau_tz)\n",
    "\n",
    "rf_palau_df['valid_time'] = pd.to_datetime(rf_palau_df['valid_time']).dt.tz_localize('UTC').dt.tz_convert(palau_tz)\n",
    "rf_palau_1d_df = rf_palau_df[rf_palau_df['valid_time'].dt.date == now_palau.date()]\n",
    "rf_1d_sum = rf_palau_df['prate'].sum()\n",
    "\n",
    "df.loc[\"Rain\", \"Current\"] = rf_1d_sum\n",
    "source_df.loc['Rain','Current'] = 'https://www.ncei.noaa.gov/products/weather-climate-models/climate-forecast-system'"
   ]
  },
  {
   "cell_type": "markdown",
   "metadata": {},
   "source": [
    "#### Rain Forecast"
   ]
  },
  {
   "cell_type": "markdown",
   "metadata": {},
   "source": [
    "Source: BOM [Link](http://www.bom.gov.au/climate/pacific/outlooks/)\n",
    "<br>\n",
    "Base period 1981-2018\n",
    "<br>\n",
    "Difference from average in mm\n",
    "<br>\n",
    "Updates every Tuesday and Thursday. The date range will vary depending on date of update"
   ]
  },
  {
   "cell_type": "code",
   "execution_count": 8,
   "metadata": {},
   "outputs": [],
   "source": [
    "url = \"https://access-s.clide.cloud/files/global/weekly/data/rain.forecast.anom.weekly.nc\"\n",
    "filename = \"./data_files/rf.forecast.nc\"\n",
    "\n",
    "response = requests.get(url)\n",
    "\n",
    "with open(filename, 'wb') as f:\n",
    "    f.write(response.content)\n",
    "\n",
    "rf_forecast_dataset = xr.open_dataset(filename)\n",
    "rf_forecast_palau = rf_forecast_dataset['rain'].sel(lat=slice(min_lat_ssh,max_lat_ssh),lon=slice(min_lon_ssh,max_lon_ssh))\n",
    "rf_forecast_palau_df = rf_forecast_palau.to_dataframe().reset_index()\n",
    "rf_forecast_value = rf_forecast_palau_df['rain'].iloc[1]\n",
    "df.loc[\"Rain\", \"Forecast\"] = rf_forecast_value\n",
    "source_df.loc['Rain','Forecast'] = 'http://www.bom.gov.au/climate/pacific/outlooks/'"
   ]
  },
  {
   "cell_type": "markdown",
   "metadata": {},
   "source": [
    "#### Rain Outlook"
   ]
  },
  {
   "cell_type": "markdown",
   "metadata": {},
   "source": [
    "Source: BOM [Link](http://www.bom.gov.au/climate/pacific/outlooks/)\n",
    "<br>\n",
    "Base period 1981-2018\n",
    "<br>\n",
    "Difference from average mm for next month\n",
    "<br>\n",
    "Updates every Tuesday and Thursday. The date range will vary depending on date of update"
   ]
  },
  {
   "cell_type": "code",
   "execution_count": 9,
   "metadata": {},
   "outputs": [
    {
     "name": "stdout",
     "output_type": "stream",
     "text": [
      "25.685072\n"
     ]
    }
   ],
   "source": [
    "url = \"https://access-s.clide.cloud/files/global/monthly/data/rain.forecast.anom.monthly.nc\"\n",
    "filename = \"./data_files/rf.outlook.nc\"\n",
    "\n",
    "response = requests.get(url)\n",
    "if response.status_code == 200:\n",
    "    with open(filename, 'wb') as f:\n",
    "        f.write(response.content)\n",
    "else:\n",
    "    print(f\"Failed to download file. Status code: {response.status_code}\")\n",
    "\n",
    "rf_outlook_dataset = xr.open_dataset(filename)\n",
    "rf_outlook_palau = rf_outlook_dataset['rain'].sel(lat=slice(min_lat_ssh,max_lat_ssh),lon=slice(min_lon_ssh,max_lon_ssh))\n",
    "\n",
    "rf_outlook_palau_df = rf_outlook_palau.to_dataframe().reset_index()\n",
    "rf_outlook_value = rf_outlook_palau_df['rain'].iloc[0]\n",
    "\n",
    "df.loc[\"Rain\", \"Outlook\"] = rf_outlook_value\n",
    "source_df.loc['Rain','Outlook'] = 'http://www.bom.gov.au/climate/pacific/outlooks/'\n",
    "print(rf_outlook_value)"
   ]
  },
  {
   "cell_type": "markdown",
   "metadata": {},
   "source": [
    "### Temperature"
   ]
  },
  {
   "cell_type": "markdown",
   "metadata": {},
   "source": [
    "#### Past Month"
   ]
  },
  {
   "cell_type": "markdown",
   "metadata": {},
   "source": [
    "Source: IRI [Link](http://iridl.ldeo.columbia.edu/maproom/Global/Atm_Temp/Anomaly.html)\n",
    "<br>\n",
    "Monthly surface air temperature anomalies are shown in units of °C\n",
    "<br>\n",
    "1991-2020 climatological average"
   ]
  },
  {
   "cell_type": "code",
   "execution_count": 10,
   "metadata": {},
   "outputs": [],
   "source": [
    "today_hst = datetime.now(ZoneInfo(\"Pacific/Honolulu\"))\n",
    "first_of_this_month = today_hst.replace(day=1)\n",
    "last_month_date = first_of_this_month - timedelta(days=1)\n",
    "last_month_str = last_month_date.strftime(\"%b %Y\")  # e.g. \"Apr 2025\"\n",
    "\n",
    "# 2. Build dynamic URL\n",
    "base_url = \"https://iridl.ldeo.columbia.edu/SOURCES/.NOAA/.NCEP/.CPC/.CAMS/.anomaly/.temp_9120\"\n",
    "url = (\n",
    "    f\"{base_url}\"\n",
    "    f\"/Y/%285N%29%2810N%29RANGEEDGES/X/%28130E%29%28140E%29RANGEEDGES\"\n",
    "    f\"/T/%28{last_month_str}%29%28{last_month_str}%29RANGEEDGES/data.nc\"\n",
    ")\n",
    "\n",
    "filename = \"./data_files/tmean_lastMonth.nc\"\n",
    "response = requests.get(url)\n",
    "\n",
    "with open(filename, 'wb') as f:\n",
    "    f.write(response.content)\n",
    "\n",
    "ds = xr.open_dataset(filename, decode_times=False, use_cftime=True)\n",
    "tmean_lastmonth_value_c = ds['temp_9120'].sel(Y=lat, X=lon, T=t_value,method='nearest').values\n",
    "\n",
    "tmean_lastmonth_value_f = tmean_lastmonth_value_c * 9/5\n",
    "df.loc['TMean','LastMonth']=tmean_lastmonth_value_f\n",
    "source_df.loc['TMean','LastMonth'] = 'http://iridl.ldeo.columbia.edu/maproom/Global/Atm_Temp/Anomaly.html'"
   ]
  },
  {
   "cell_type": "markdown",
   "metadata": {},
   "source": [
    "#### Current"
   ]
  },
  {
   "cell_type": "markdown",
   "metadata": {},
   "source": [
    "Source: CFS\n",
    "<br>\n",
    "Using \"6\" cycle for 3PM but there is a notable lag for this data..."
   ]
  },
  {
   "cell_type": "code",
   "execution_count": 11,
   "metadata": {},
   "outputs": [
    {
     "name": "stderr",
     "output_type": "stream",
     "text": [
      "Ignoring index file './data_files/tmean.current.grb2.5b7b6.idx' older than GRIB file\n"
     ]
    },
    {
     "name": "stdout",
     "output_type": "stream",
     "text": [
      "Downloaded: https://nomads.ncep.noaa.gov/pub/data/nccf/com/cfs/prod/cfs.20250513/06/time_grib_01/tmp2m.01.2025051306.daily.grb2\n",
      "Downloaded: https://nomads.ncep.noaa.gov/pub/data/nccf/com/cfs/prod/cfs.20250513/06/time_grib_01/tmp2m.01.2025051306.daily.grb2.idx\n"
     ]
    }
   ],
   "source": [
    "grib_url = f\"https://nomads.ncep.noaa.gov/pub/data/nccf/com/cfs/prod/cfs.{today_str}/{cycle}/time_grib_01/tmp2m.01.{today_str}{cycle}.daily.grb2\"\n",
    "idx_url = grib_url + \".idx\"\n",
    "\n",
    "grib_file = \"./data_files/tmean.current.grb2\"\n",
    "\n",
    "idx_file = grib_file + \".idx\"\n",
    "\n",
    "download_file(grib_url, grib_file)\n",
    "download_file(idx_url, idx_file)\n",
    "\n",
    "ds = xr.open_dataset(grib_file, engine=\"cfgrib\")\n",
    "\n",
    "palau = ds.sel(latitude=lat,longitude=lon,method='nearest')\n",
    "temp_palau_df = palau[['t2m']].to_dataframe().reset_index()\n",
    "\n",
    "palau_tz = ZoneInfo(\"Pacific/Palau\")\n",
    "now_palau = datetime.now(palau_tz)\n",
    "\n",
    "temp_palau_df['valid_time'] = pd.to_datetime(temp_palau_df['valid_time']).dt.tz_localize('UTC').dt.tz_convert(palau_tz)"
   ]
  },
  {
   "cell_type": "code",
   "execution_count": 12,
   "metadata": {},
   "outputs": [
    {
     "name": "stdout",
     "output_type": "stream",
     "text": [
      "One day temp average: 302.2582092285156\n"
     ]
    }
   ],
   "source": [
    "temp_palau_1d_df = temp_palau_df[temp_palau_df['valid_time'].dt.date == now_palau.date()]\n",
    "temp_1d_mean = temp_palau_df['t2m'].mean()\n",
    "temp_1d_mean_c = temp_1d_mean-273.15\n",
    "temp_1d_mean_f = temp_1d_mean_c*9/5+32\n",
    "df.loc[\"TMean\", \"Current\"] = temp_1d_mean_f\n",
    "source_df.loc['TMean','Current'] = 'https://www.ncei.noaa.gov/products/weather-climate-models/climate-forecast-system'\n",
    "print(\"One day temp average:\", temp_1d_mean.item())"
   ]
  },
  {
   "cell_type": "markdown",
   "metadata": {},
   "source": [
    "#### Tmean Forecast"
   ]
  },
  {
   "cell_type": "markdown",
   "metadata": {},
   "source": [
    "CFSv2 [Link](https://www.cpc.ncep.noaa.gov/products/people/mchen/CFSv2FCST/weekly/)\n",
    "<br>\n",
    "Updates daily.<br>\n",
    "Predicts t+1 to t+8 days<br>\n",
    "Temperature anomaly in Kelvin converted to F\n"
   ]
  },
  {
   "cell_type": "code",
   "execution_count": 13,
   "metadata": {},
   "outputs": [],
   "source": [
    "url = f'https://www.cpc.ncep.noaa.gov/products/people/mchen/CFSv2FCST/weekly/data/CFSv2.tmpsfc.{yest_str}.wkly.anom.nc'\n",
    "filename = \"./data_files/tmean.forecast.nc\"\n",
    "\n",
    "response = requests.get(url)\n",
    "if response.status_code == 200:\n",
    "    with open(filename, 'wb') as f:\n",
    "        f.write(response.content)\n",
    "else:\n",
    "    print(f\"Failed to download file. Status code: {response.status_code}\")\n",
    "    \n",
    "tmean_forecast_dataset = xr.open_dataset(filename)\n",
    "\n",
    "tmean_forecast_dataset_palau = tmean_forecast_dataset['anom'].sel(lat=lat, lon=lon, method='nearest')\n",
    "tmean_forecast_palau_df = tmean_forecast_dataset_palau.to_dataframe().reset_index()\n",
    "\n",
    "tmean_forecast_value_c = tmean_forecast_palau_df['anom'].iloc[0]\n",
    "tmean_forecast_value_f = tmean_forecast_value_c * 9/5\n",
    "df.loc[\"TMean\", \"Forecast\"] = tmean_forecast_value_f\n",
    "source_df.loc['TMean','Forecast'] = f'https://www.cpc.ncep.noaa.gov/products/people/mchen/CFSv2FCST/weekly/'\n"
   ]
  },
  {
   "cell_type": "markdown",
   "metadata": {},
   "source": [
    "#### TMean Outlook"
   ]
  },
  {
   "cell_type": "markdown",
   "metadata": {},
   "source": [
    "Seasonal climate forecast from CFSv2 [Link](https://www.cpc.ncep.noaa.gov/products/CFSv2/CFSv2_body.html)\n",
    "<br>\n",
    "Monthly T2m anomaly initially in Kelvin\n",
    "<br>\n",
    "Respect to 1991-2020 hindcast climatology\n",
    "<br>\n",
    "Using 1st ensemble (E1) data"
   ]
  },
  {
   "cell_type": "code",
   "execution_count": 14,
   "metadata": {},
   "outputs": [],
   "source": [
    "url = \"https://www.cpc.ncep.noaa.gov/products/CFSv2/dataInd1/glbSSTMon.nc\"\n",
    "filename = \"./data_files/tmean.outlook.nc\"\n",
    "\n",
    "response = requests.get(url)\n",
    "if response.status_code == 200:\n",
    "    with open(filename, 'wb') as f:\n",
    "        f.write(response.content)\n",
    "else:\n",
    "    print(f\"Failed to download file. Status code: {response.status_code}\")\n",
    "\n",
    "tmean_outlook_dataset = xr.open_dataset(filename)\n",
    "\n",
    "tmean_outlook_dataset_palau = tmean_outlook_dataset['anom'].sel(lat=lat, lon=lon, method='nearest')\n",
    "tmean_outlook_palau_df = tmean_outlook_dataset_palau.to_dataframe().reset_index()\n",
    "\n",
    "tmean_outlook_value_c = tmean_outlook_palau_df['anom'].iloc[1]\n",
    "tmean_outlook_value_f = tmean_outlook_value_c * 9/5\n",
    "df.loc[\"TMean\", \"Outlook\"] = tmean_outlook_value_f\n",
    "source_df.loc['TMean','Outlook'] = 'https://www.cpc.ncep.noaa.gov/products/CFSv2/CFSv2_body.html'"
   ]
  },
  {
   "cell_type": "code",
   "execution_count": 15,
   "metadata": {},
   "outputs": [
    {
     "data": {
      "application/vnd.microsoft.datawrangler.viewer.v0+json": {
       "columns": [
        {
         "name": "index",
         "rawType": "int64",
         "type": "integer"
        },
        {
         "name": "ens",
         "rawType": "float32",
         "type": "float"
        },
        {
         "name": "time",
         "rawType": "datetime64[ns]",
         "type": "datetime"
        },
        {
         "name": "lev",
         "rawType": "float32",
         "type": "float"
        },
        {
         "name": "lon",
         "rawType": "float32",
         "type": "float"
        },
        {
         "name": "lat",
         "rawType": "float32",
         "type": "float"
        },
        {
         "name": "anom",
         "rawType": "float32",
         "type": "float"
        }
       ],
       "conversionMethod": "pd.DataFrame",
       "ref": "ed0d0e35-7435-47da-95e6-82653cf34dbe",
       "rows": [
        [
         "0",
         "1.0",
         "2025-06-01 00:00:00",
         "1.0",
         "135.0",
         "8.0",
         "0.51539385"
        ],
        [
         "1",
         "1.0",
         "2025-07-01 00:00:00",
         "1.0",
         "135.0",
         "8.0",
         "-0.041677095"
        ],
        [
         "2",
         "1.0",
         "2025-08-01 00:00:00",
         "1.0",
         "135.0",
         "8.0",
         "-0.07298736"
        ],
        [
         "3",
         "1.0",
         "2025-09-01 00:00:00",
         "1.0",
         "135.0",
         "8.0",
         "-0.007982636"
        ],
        [
         "4",
         "1.0",
         "2025-10-01 00:00:00",
         "1.0",
         "135.0",
         "8.0",
         "0.39821777"
        ],
        [
         "5",
         "1.0",
         "2025-11-01 00:00:00",
         "1.0",
         "135.0",
         "8.0",
         "0.22947082"
        ]
       ],
       "shape": {
        "columns": 6,
        "rows": 6
       }
      },
      "text/html": [
       "<div>\n",
       "<style scoped>\n",
       "    .dataframe tbody tr th:only-of-type {\n",
       "        vertical-align: middle;\n",
       "    }\n",
       "\n",
       "    .dataframe tbody tr th {\n",
       "        vertical-align: top;\n",
       "    }\n",
       "\n",
       "    .dataframe thead th {\n",
       "        text-align: right;\n",
       "    }\n",
       "</style>\n",
       "<table border=\"1\" class=\"dataframe\">\n",
       "  <thead>\n",
       "    <tr style=\"text-align: right;\">\n",
       "      <th></th>\n",
       "      <th>ens</th>\n",
       "      <th>time</th>\n",
       "      <th>lev</th>\n",
       "      <th>lon</th>\n",
       "      <th>lat</th>\n",
       "      <th>anom</th>\n",
       "    </tr>\n",
       "  </thead>\n",
       "  <tbody>\n",
       "    <tr>\n",
       "      <th>0</th>\n",
       "      <td>1.0</td>\n",
       "      <td>2025-06-01</td>\n",
       "      <td>1.0</td>\n",
       "      <td>135.0</td>\n",
       "      <td>8.0</td>\n",
       "      <td>0.515394</td>\n",
       "    </tr>\n",
       "    <tr>\n",
       "      <th>1</th>\n",
       "      <td>1.0</td>\n",
       "      <td>2025-07-01</td>\n",
       "      <td>1.0</td>\n",
       "      <td>135.0</td>\n",
       "      <td>8.0</td>\n",
       "      <td>-0.041677</td>\n",
       "    </tr>\n",
       "    <tr>\n",
       "      <th>2</th>\n",
       "      <td>1.0</td>\n",
       "      <td>2025-08-01</td>\n",
       "      <td>1.0</td>\n",
       "      <td>135.0</td>\n",
       "      <td>8.0</td>\n",
       "      <td>-0.072987</td>\n",
       "    </tr>\n",
       "    <tr>\n",
       "      <th>3</th>\n",
       "      <td>1.0</td>\n",
       "      <td>2025-09-01</td>\n",
       "      <td>1.0</td>\n",
       "      <td>135.0</td>\n",
       "      <td>8.0</td>\n",
       "      <td>-0.007983</td>\n",
       "    </tr>\n",
       "    <tr>\n",
       "      <th>4</th>\n",
       "      <td>1.0</td>\n",
       "      <td>2025-10-01</td>\n",
       "      <td>1.0</td>\n",
       "      <td>135.0</td>\n",
       "      <td>8.0</td>\n",
       "      <td>0.398218</td>\n",
       "    </tr>\n",
       "    <tr>\n",
       "      <th>5</th>\n",
       "      <td>1.0</td>\n",
       "      <td>2025-11-01</td>\n",
       "      <td>1.0</td>\n",
       "      <td>135.0</td>\n",
       "      <td>8.0</td>\n",
       "      <td>0.229471</td>\n",
       "    </tr>\n",
       "  </tbody>\n",
       "</table>\n",
       "</div>"
      ],
      "text/plain": [
       "   ens       time  lev    lon  lat      anom\n",
       "0  1.0 2025-06-01  1.0  135.0  8.0  0.515394\n",
       "1  1.0 2025-07-01  1.0  135.0  8.0 -0.041677\n",
       "2  1.0 2025-08-01  1.0  135.0  8.0 -0.072987\n",
       "3  1.0 2025-09-01  1.0  135.0  8.0 -0.007983\n",
       "4  1.0 2025-10-01  1.0  135.0  8.0  0.398218\n",
       "5  1.0 2025-11-01  1.0  135.0  8.0  0.229471"
      ]
     },
     "execution_count": 15,
     "metadata": {},
     "output_type": "execute_result"
    }
   ],
   "source": [
    "tmean_outlook_palau_df"
   ]
  },
  {
   "cell_type": "markdown",
   "metadata": {},
   "source": [
    "### Wind Speed"
   ]
  },
  {
   "cell_type": "code",
   "execution_count": 16,
   "metadata": {},
   "outputs": [
    {
     "name": "stderr",
     "output_type": "stream",
     "text": [
      "Ignoring index file './data_files/wnd10m.cfs.daily.grb2.5b7b6.idx' older than GRIB file\n"
     ]
    },
    {
     "name": "stdout",
     "output_type": "stream",
     "text": [
      "Downloaded: https://nomads.ncep.noaa.gov/pub/data/nccf/com/cfs/prod/cfs.20250513/06/time_grib_01/wnd10m.01.2025051306.daily.grb2\n",
      "Downloaded: https://nomads.ncep.noaa.gov/pub/data/nccf/com/cfs/prod/cfs.20250513/06/time_grib_01/wnd10m.01.2025051306.daily.grb2.idx\n"
     ]
    },
    {
     "data": {
      "application/vnd.microsoft.datawrangler.viewer.v0+json": {
       "columns": [
        {
         "name": "Date",
         "rawType": "object",
         "type": "unknown"
        },
        {
         "name": "wind_speed",
         "rawType": "float32",
         "type": "float"
        }
       ],
       "conversionMethod": "pd.DataFrame",
       "ref": "c5b27dff-3d7a-4544-95ca-a5d93f4d9ddd",
       "rows": [
        [
         "2025-05-15",
         "7.6507583"
        ],
        [
         "2025-05-16",
         "7.1750956"
        ],
        [
         "2025-05-17",
         "7.3198156"
        ],
        [
         "2025-05-18",
         "7.1236506"
        ],
        [
         "2025-05-19",
         "9.102363"
        ],
        [
         "2025-05-20",
         "6.3277245"
        ],
        [
         "2025-05-21",
         "3.295087"
        ]
       ],
       "shape": {
        "columns": 1,
        "rows": 7
       }
      },
      "text/html": [
       "<div>\n",
       "<style scoped>\n",
       "    .dataframe tbody tr th:only-of-type {\n",
       "        vertical-align: middle;\n",
       "    }\n",
       "\n",
       "    .dataframe tbody tr th {\n",
       "        vertical-align: top;\n",
       "    }\n",
       "\n",
       "    .dataframe thead th {\n",
       "        text-align: right;\n",
       "    }\n",
       "</style>\n",
       "<table border=\"1\" class=\"dataframe\">\n",
       "  <thead>\n",
       "    <tr style=\"text-align: right;\">\n",
       "      <th></th>\n",
       "      <th>wind_speed</th>\n",
       "    </tr>\n",
       "    <tr>\n",
       "      <th>Date</th>\n",
       "      <th></th>\n",
       "    </tr>\n",
       "  </thead>\n",
       "  <tbody>\n",
       "    <tr>\n",
       "      <th>2025-05-15</th>\n",
       "      <td>7.650758</td>\n",
       "    </tr>\n",
       "    <tr>\n",
       "      <th>2025-05-16</th>\n",
       "      <td>7.175096</td>\n",
       "    </tr>\n",
       "    <tr>\n",
       "      <th>2025-05-17</th>\n",
       "      <td>7.319816</td>\n",
       "    </tr>\n",
       "    <tr>\n",
       "      <th>2025-05-18</th>\n",
       "      <td>7.123651</td>\n",
       "    </tr>\n",
       "    <tr>\n",
       "      <th>2025-05-19</th>\n",
       "      <td>9.102363</td>\n",
       "    </tr>\n",
       "    <tr>\n",
       "      <th>2025-05-20</th>\n",
       "      <td>6.327724</td>\n",
       "    </tr>\n",
       "    <tr>\n",
       "      <th>2025-05-21</th>\n",
       "      <td>3.295087</td>\n",
       "    </tr>\n",
       "  </tbody>\n",
       "</table>\n",
       "</div>"
      ],
      "text/plain": [
       "            wind_speed\n",
       "Date                  \n",
       "2025-05-15    7.650758\n",
       "2025-05-16    7.175096\n",
       "2025-05-17    7.319816\n",
       "2025-05-18    7.123651\n",
       "2025-05-19    9.102363\n",
       "2025-05-20    6.327724\n",
       "2025-05-21    3.295087"
      ]
     },
     "execution_count": 16,
     "metadata": {},
     "output_type": "execute_result"
    }
   ],
   "source": [
    "grib_url = f\"https://nomads.ncep.noaa.gov/pub/data/nccf/com/cfs/prod/cfs.{today_str}/{cycle}/time_grib_01/wnd10m.01.{today_str}{cycle}.daily.grb2\"\n",
    "idx_url = grib_url + \".idx\"\n",
    "\n",
    "grib_file = \"./data_files/wnd10m.cfs.daily.grb2\"\n",
    "\n",
    "idx_file = grib_file + \".idx\"\n",
    "\n",
    "download_file(grib_url, grib_file)\n",
    "download_file(idx_url, idx_file)\n",
    "\n",
    "ds = xr.open_dataset(grib_file, engine=\"cfgrib\")\n",
    "palau = ds.sel(latitude=lat,longitude=lon,method='nearest')\n",
    "uv_palau_df = palau[['u10', 'v10']].to_dataframe().reset_index()\n",
    "\n",
    "palau_tz = ZoneInfo(\"Pacific/Palau\")\n",
    "now_palau = datetime.now(palau_tz)\n",
    "uv_palau_df['valid_time'] = pd.to_datetime(uv_palau_df['valid_time']).dt.tz_localize('UTC').dt.tz_convert(palau_tz)\n",
    "\n",
    "start_date = (now_palau + timedelta(days=1)).replace(hour=0, minute=0, second=0, microsecond=0)\n",
    "end_date = start_date + timedelta(days=7) - timedelta(seconds=1)\n",
    "\n",
    "uv_palau_3m_df = uv_palau_df[\n",
    "    (uv_palau_df['valid_time'] >= start_date) &\n",
    "    (uv_palau_df['valid_time'] <= end_date)\n",
    "]\n",
    "uv_palau_3m_df = uv_palau_3m_df.copy()\n",
    "uv_palau_3m_df['wind_speed'] = np.sqrt(uv_palau_3m_df['u10']**2 + uv_palau_3m_df['v10']**2)\n",
    "uv_palau_3m_df['Date'] = uv_palau_3m_df['valid_time'].dt.date\n",
    "\n",
    "\n",
    "wind_speed_df = uv_palau_3m_df.groupby('Date')[['wind_speed']].max()\n",
    "wind_speed_df"
   ]
  },
  {
   "cell_type": "code",
   "execution_count": 17,
   "metadata": {},
   "outputs": [],
   "source": [
    "result = wind_speed_df[[\"wind_speed\"]].reset_index()\n",
    "\n",
    "result.to_json(\"./data/wind_speed.json\",orient=\"records\", date_format=\"iso\")"
   ]
  },
  {
   "cell_type": "code",
   "execution_count": 18,
   "metadata": {},
   "outputs": [],
   "source": [
    "source_df.loc['Wind','Forecast'] = 'https://www.ncei.noaa.gov/products/weather-climate-models/climate-forecast-system'"
   ]
  },
  {
   "cell_type": "code",
   "execution_count": 19,
   "metadata": {},
   "outputs": [],
   "source": [
    "df = df.astype(float)\n",
    "df.reset_index(inplace=True)\n",
    "df.rename(columns={\"index\": \"Type\"}, inplace=True)\n",
    "\n",
    "df.to_json(\"./data/palau_rf_temp.json\", orient=\"records\", date_format=\"iso\")\n"
   ]
  },
  {
   "cell_type": "code",
   "execution_count": 20,
   "metadata": {},
   "outputs": [],
   "source": [
    "source_df.reset_index(inplace=True)\n",
    "source_df.rename(columns={\"index\": \"Type\"}, inplace=True)\n",
    "\n",
    "source_df.to_json(\"./data/sources.json\", orient=\"records\", date_format=\"iso\")\n"
   ]
  }
 ],
 "metadata": {
  "kernelspec": {
   "display_name": "base",
   "language": "python",
   "name": "python3"
  },
  "language_info": {
   "codemirror_mode": {
    "name": "ipython",
    "version": 3
   },
   "file_extension": ".py",
   "mimetype": "text/x-python",
   "name": "python",
   "nbconvert_exporter": "python",
   "pygments_lexer": "ipython3",
   "version": "3.11.5"
  }
 },
 "nbformat": 4,
 "nbformat_minor": 2
}
