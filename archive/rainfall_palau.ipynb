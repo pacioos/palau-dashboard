{
 "cells": [
  {
   "cell_type": "markdown",
   "id": "066cdf3c-960e-4a23-98b5-6cc90843fcd1",
   "metadata": {},
   "source": [
    "#### Rainfall"
   ]
  },
  {
   "cell_type": "code",
   "execution_count": 1,
   "id": "0e49af2a-2c1c-46fb-b386-a052dd3b84cc",
   "metadata": {},
   "outputs": [],
   "source": [
    "import requests\n",
    "import xarray as xr\n",
    "import json"
   ]
  },
  {
   "cell_type": "code",
   "execution_count": 2,
   "id": "067d2a69",
   "metadata": {},
   "outputs": [],
   "source": [
    "# Palau lat/lon\n",
    "lat = 7.5150\n",
    "lon = 134.5825"
   ]
  },
  {
   "cell_type": "markdown",
   "id": "879851d8",
   "metadata": {},
   "source": [
    "---"
   ]
  },
  {
   "cell_type": "markdown",
   "id": "8032a8e1",
   "metadata": {},
   "source": [
    "List of available sources:\n",
    "\n",
    "**Current Conditions** \n",
    "* [IRI](http://iridl.ldeo.columbia.edu/maproom/Global/Precipitation/?bbox=bb%3A110.10%3A59.56%3A198.92%3A59.80%3Abb) \n",
    "    * Monthly anomaly (mm/month)\n",
    "    \n",
    "* [NCEI](https://www.ncei.noaa.gov/access/monitoring/usapi-pcp/all/PSW00040309)\n",
    "    * Daily observations, can be aggregated to weekly or monthly\n",
    "    * Station data (WEATHER SERVICE OFFICE PALAU AIRAI, ID#PSC00914913, KOROR ID#PSW00040309)\n",
    "    * Data found [here](https://www.ncei.noaa.gov/access/monitoring/usapi-pcp/all/PSW00040309) is not consistent with the API data...\n",
    "    * Seems like it's not in real-time, some stations skip days. Currently has data access outages, need to revisit later.\n",
    "* [NWS](https://forecast.weather.gov/data/obhistory/PTRO.html)\n",
    "    * No precip data  \n",
    "\n",
    "**Forecast**  \n",
    "* [BOM](http://www.bom.gov.au/climate/pacific/outlooks/)\n",
    "    * Products: Anomaly (difference from average, mm) & Probability of exceeding median (%)\n",
    "    * Baseline period: 1981-2018\n",
    "    * Weekly and monthly\n",
    "    * Weekly updated each Tuesdays/Thursdays, Monthly updated each Thursday  \n",
    "* [CFSv2](https://www.cpc.ncep.noaa.gov/products/CFSv2/CFSv2_body.html)\n",
    "    * Monthly anomaly (mm/day)\n",
    "    * Baseline period: 1991-2020\n",
    "    * Monthly\n",
    "\n",
    "**Seasonal outlook**  \n",
    "* [BOM](http://www.bom.gov.au/climate/pacific/outlooks/)\n",
    "    * Products: Anomaly (difference from average, mm) & Probability of exceeding median (%)\n",
    "    * Baseline period: 1981-2018\n",
    "    * Updated each Thursday\n",
    "* [CFSv2](https://www.cpc.ncep.noaa.gov/products/CFSv2/CFSv2_body.html)\n",
    "    * Seasonal anomaly (mm/day)\n",
    "    * Baseline period: 1991-2020\n"
   ]
  },
  {
   "cell_type": "markdown",
   "id": "ad7921b0",
   "metadata": {},
   "source": [
    "---"
   ]
  },
  {
   "cell_type": "markdown",
   "id": "33a22fbf",
   "metadata": {},
   "source": [
    "**Current Rainfall Conditions** (Monthly)  \n",
    "Source: IRI"
   ]
  },
  {
   "cell_type": "code",
   "execution_count": 50,
   "id": "9b618b7c",
   "metadata": {},
   "outputs": [
    {
     "name": "stdout",
     "output_type": "stream",
     "text": [
      "<xarray.Dataset> Size: 96B\n",
      "Dimensions:  (Y: 2, X: 4, T: 2)\n",
      "Coordinates:\n",
      "  * Y        (Y) float32 8B 6.25 8.75\n",
      "  * X        (X) float32 16B 131.2 133.8 136.2 138.8\n",
      "  * T        (T) float32 8B 778.5 779.5\n",
      "Data variables:\n",
      "    aprod    (T, Y, X) float32 64B ...\n"
     ]
    }
   ],
   "source": [
    "url = \"https://iridl.ldeo.columbia.edu/SOURCES/.NOAA/.NCEP/.CPC/.CAMS_OPI/.v0208/.anomaly_9120/.prcp/T/%28days%20since%201960-01-01%29streamgridunitconvert/T/differential_mul/T/%28months%20since%201960-01-01%29streamgridunitconvert//units/%28mm/month%29def//long_name/%28Precipitation%20Anomaly%29def/DATA/-500/-450/-400/-350/-300/-250/-200/-150/-100/-50/-25/25/50/100/150/200/250/300/350/400/450/500/VALUES/prcp_anomaly_max500_colors2/Y/%285N%29%2810N%29RANGEEDGES/X/%28130E%29%28140E%29RANGEEDGES/T/%28Nov%202024%29%28Dec%202024%29RANGEEDGES/data.nc\"\n",
    "filename = \"iri.monthly.conditions.nc\"\n",
    "\n",
    "response = requests.get(url)\n",
    "if response.status_code == 200:\n",
    "    with open(filename, 'wb') as f:\n",
    "        f.write(response.content)\n",
    "else:\n",
    "    print(f\"Failed to download file. Status code: {response.status_code}\")\n",
    "\n",
    "ds = xr.open_dataset(filename, decode_times=False, use_cftime=True)\n",
    "print(ds)"
   ]
  },
  {
   "cell_type": "code",
   "execution_count": 55,
   "id": "ce3020f6",
   "metadata": {},
   "outputs": [
    {
     "data": {
      "text/plain": [
       "array(6.778471, dtype=float32)"
      ]
     },
     "execution_count": 55,
     "metadata": {},
     "output_type": "execute_result"
    }
   ],
   "source": [
    "ds['aprod'].sel(Y=lat, X=lon, T=779.5,method='nearest').values"
   ]
  },
  {
   "cell_type": "markdown",
   "id": "936f8b95",
   "metadata": {},
   "source": [
    "Note: Some issues with rendering the time. Need to fix"
   ]
  },
  {
   "cell_type": "markdown",
   "id": "90352427",
   "metadata": {},
   "source": [
    "**Current Rainfall Conditions** (Daily)  \n",
    "Source: NCEI"
   ]
  },
  {
   "cell_type": "code",
   "execution_count": null,
   "id": "f09f01d8",
   "metadata": {},
   "outputs": [
    {
     "name": "stdout",
     "output_type": "stream",
     "text": [
      "[\n",
      "    {\n",
      "        \"DATE\": \"2024-01-07\",\n",
      "        \"STATION\": \"PSW00040309\",\n",
      "        \"PRCP\": \"6.6\",\n",
      "        \"NAME\": \"KOROR, PW PS\"\n",
      "    },\n",
      "    {\n",
      "        \"DATE\": \"2024-01-08\",\n",
      "        \"STATION\": \"PSW00040309\",\n",
      "        \"PRCP\": \"1.0\",\n",
      "        \"NAME\": \"KOROR, PW PS\"\n",
      "    },\n",
      "    {\n",
      "        \"DATE\": \"2024-01-09\",\n",
      "        \"STATION\": \"PSW00040309\",\n",
      "        \"PRCP\": \"0.8\",\n",
      "        \"NAME\": \"KOROR, PW PS\"\n",
      "    },\n",
      "    {\n",
      "        \"DATE\": \"2024-01-10\",\n",
      "        \"STATION\": \"PSW00040309\",\n",
      "        \"PRCP\": \"0.0\",\n",
      "        \"NAME\": \"KOROR, PW PS\"\n",
      "    },\n",
      "    {\n",
      "        \"DATE\": \"2024-01-11\",\n",
      "        \"STATION\": \"PSW00040309\",\n",
      "        \"PRCP\": \"2.3\",\n",
      "        \"NAME\": \"KOROR, PW PS\"\n",
      "    },\n",
      "    {\n",
      "        \"DATE\": \"2024-01-12\",\n",
      "        \"STATION\": \"PSW00040309\",\n",
      "        \"PRCP\": \"0.0\",\n",
      "        \"NAME\": \"KOROR, PW PS\"\n",
      "    }\n",
      "]\n"
     ]
    }
   ],
   "source": [
    "base_url = \"https://www.ncei.noaa.gov/access/services/data/v1\"\n",
    "\n",
    "params = {\n",
    "    \"dataset\": \"daily-summaries\",             \n",
    "    \"stations\": \"PSW00040309\",                \n",
    "    \"startDate\": \"2024-01-06\",                \n",
    "    \"endDate\": \"2024-01-12\",                  \n",
    "    \"dataTypes\": \"PRCP\",                      \n",
    "    \"format\": \"json\",                         \n",
    "    \"includeStationName\": \"true\",             \n",
    "    \"units\": \"metric\",               # or standard         \n",
    "}\n",
    "\n",
    "# Make the API request\n",
    "response = requests.get(base_url, params=params)\n",
    "\n",
    "data = response.json()\n",
    "print(json.dumps(data, indent=4))"
   ]
  },
  {
   "cell_type": "markdown",
   "id": "dfc003b6",
   "metadata": {},
   "source": [
    "---"
   ]
  },
  {
   "cell_type": "markdown",
   "id": "d7e9d222",
   "metadata": {},
   "source": [
    "**Weekly rainfall forecast**: Difference from average rainfall forecast (mm)  \n",
    "Source: [BOM](http://www.bom.gov.au/climate/pacific/outlooks/) <br>\n",
    "* Baseline period: 1981-2018\n",
    "* Available products: Weekly, monthly, seasonal forecast\n",
    "* \"One- and three-month outlooks are issued each Thursday, while weekly and fortnightly outlooks\n",
    "are issued twice a week on Tuesday and Thursday.\""
   ]
  },
  {
   "cell_type": "code",
   "execution_count": 3,
   "id": "f5c399a8-813c-485b-b4a6-f044cfc26567",
   "metadata": {},
   "outputs": [],
   "source": [
    "url = \"https://access-s.clide.cloud/files/global/weekly/data/rain.forecast.anom.weekly.nc\"\n",
    "filename = \"rain.forecast.anom.weekly.nc\"\n",
    "\n",
    "response = requests.get(url)\n",
    "if response.status_code == 200:\n",
    "    with open(filename, 'wb') as f:\n",
    "        f.write(response.content)\n",
    "else:\n",
    "    print(f\"Failed to download file. Status code: {response.status_code}\")\n",
    "\n",
    "rf_weekly_forecast_anomaly_dataset = xr.open_dataset(filename)"
   ]
  },
  {
   "cell_type": "code",
   "execution_count": 4,
   "id": "9c85f642-a7ae-484e-8f25-a72ac1f7842f",
   "metadata": {},
   "outputs": [
    {
     "name": "stdout",
     "output_type": "stream",
     "text": [
      "                 time         lon  lat       rain\n",
      "0 2025-01-09 12:00:00  134.583328  7.5  17.108965\n",
      "1 2025-01-16 12:00:00  134.583328  7.5 -22.067575\n",
      "2 2025-01-23 12:00:00  134.583328  7.5  14.037240\n",
      "3 2025-01-30 12:00:00  134.583328  7.5  16.520462\n",
      "4 2025-02-06 12:00:00  134.583328  7.5  13.158188\n"
     ]
    }
   ],
   "source": [
    "#Filter for Palau coordinates\n",
    "rf_weekly_forecast_anomaly = rf_weekly_forecast_anomaly_dataset['rain'].sel(lat=lat, lon=lon, method='nearest')\n",
    "\n",
    "# Convert to a Pandas DataFrame\n",
    "rf_weekly_forecast_anomaly_df = rf_weekly_forecast_anomaly.to_dataframe().reset_index()\n",
    "print(rf_weekly_forecast_anomaly_df)\n"
   ]
  },
  {
   "cell_type": "markdown",
   "id": "606351ca",
   "metadata": {},
   "source": [
    "---"
   ]
  },
  {
   "cell_type": "markdown",
   "id": "28f04f92",
   "metadata": {},
   "source": [
    "**Weekly rainfall forecast**: Chance of exceeding the median rainfall (%)  \n",
    "Source: [BOM](http://www.bom.gov.au/climate/pacific/outlooks/) <br>"
   ]
  },
  {
   "cell_type": "code",
   "execution_count": 5,
   "id": "527273a8",
   "metadata": {},
   "outputs": [],
   "source": [
    "url = \"https://access-s.clide.cloud/files/global/weekly/data/rain.forecast.median.weekly.nc\"\n",
    "filename = \"rain.forecast.median.weekly.nc\"\n",
    "\n",
    "response = requests.get(url)\n",
    "if response.status_code == 200:\n",
    "    with open(filename, 'wb') as f:\n",
    "        f.write(response.content)\n",
    "else:\n",
    "    print(f\"Failed to download file. Status code: {response.status_code}\")\n",
    "\n",
    "rf_weekly_forecast_probability_dataset = xr.open_dataset(filename)"
   ]
  },
  {
   "cell_type": "code",
   "execution_count": 6,
   "id": "dfa35e56",
   "metadata": {},
   "outputs": [
    {
     "name": "stdout",
     "output_type": "stream",
     "text": [
      "                 time         lon  lat      probF\n",
      "0 2025-01-09 12:00:00  134.583328  7.5  97.979797\n",
      "1 2025-01-16 12:00:00  134.583328  7.5   8.080808\n",
      "2 2025-01-23 12:00:00  134.583328  7.5  80.808083\n",
      "3 2025-01-30 12:00:00  134.583328  7.5  77.777779\n",
      "4 2025-02-06 12:00:00  134.583328  7.5  81.818184\n"
     ]
    }
   ],
   "source": [
    "#Filter for Palau coordinates\n",
    "rf_forecast_probability = rf_weekly_forecast_probability_dataset['probF'].sel(lat=lat, lon=lon, method='nearest')\n",
    "\n",
    "# Convert to a Pandas DataFrame\n",
    "rf_forecast_probability_df = rf_forecast_probability.to_dataframe().reset_index()\n",
    "print(rf_forecast_probability_df)\n"
   ]
  },
  {
   "cell_type": "markdown",
   "id": "53aafcca",
   "metadata": {},
   "source": [
    "---"
   ]
  },
  {
   "cell_type": "markdown",
   "id": "b7399815",
   "metadata": {},
   "source": [
    "#### Seasonal Rainfall Outlook  "
   ]
  },
  {
   "cell_type": "markdown",
   "id": "09777157",
   "metadata": {},
   "source": [
    "**Seasonal rainfall outlook**: Difference from average (mm), 3-month period  \n",
    "Source: [BOM](http://www.bom.gov.au/climate/pacific/outlooks/)  \n",
    "\n",
    "Baseline period: 1981-2018"
   ]
  },
  {
   "cell_type": "code",
   "execution_count": 7,
   "id": "0e0c3a2f",
   "metadata": {},
   "outputs": [],
   "source": [
    "url = \"https://access-s.clide.cloud/files/global/seasonal/data/rain.forecast.anom.seasonal.nc\"\n",
    "filename = \"rain.forecast.anom.seasonal.nc\"\n",
    "\n",
    "response = requests.get(url)\n",
    "if response.status_code == 200:\n",
    "    with open(filename, 'wb') as f:\n",
    "        f.write(response.content)\n",
    "else:\n",
    "    print(f\"Failed to download file. Status code: {response.status_code}\")\n",
    "\n",
    "rf_seasonal_outlook_anomaly_dataset = xr.open_dataset(filename)"
   ]
  },
  {
   "cell_type": "code",
   "execution_count": 8,
   "id": "fb53ecc1",
   "metadata": {},
   "outputs": [
    {
     "name": "stdout",
     "output_type": "stream",
     "text": [
      "                           time         lon  lat        rain\n",
      "0 2025-03-16 20:00:56.249999872  134.583328  7.5  185.423203\n",
      "1 2025-04-16 00:00:00.000000000  134.583328  7.5  140.219925\n",
      "2 2025-05-16 12:00:00.000000000  134.583328  7.5   55.053329\n"
     ]
    }
   ],
   "source": [
    "rf_seasonal_outlook_anomaly = rf_seasonal_outlook_anomaly_dataset['rain'].sel(lat=lat, lon=lon, method='nearest')\n",
    "\n",
    "# Convert to a Pandas DataFrame\n",
    "rf_seasonal_outlook_anomaly_df = rf_seasonal_outlook_anomaly.to_dataframe().reset_index()\n",
    "print(rf_seasonal_outlook_anomaly_df)\n"
   ]
  },
  {
   "cell_type": "markdown",
   "id": "aee9954d",
   "metadata": {},
   "source": [
    "Notes: Unclear what the time is referring to. <br>\n",
    "Assuming 2025-03-16 refers to February to April, taking the middle date of the period <br>"
   ]
  },
  {
   "cell_type": "markdown",
   "id": "15793dfc",
   "metadata": {},
   "source": [
    "---"
   ]
  },
  {
   "cell_type": "markdown",
   "id": "fbbc642a",
   "metadata": {},
   "source": [
    "**Seasonal rainfall outlook**: Chance of exceeding median rainfall (%), 3-month period  \n",
    "Source: [BOM](http://www.bom.gov.au/climate/pacific/outlooks/)  "
   ]
  },
  {
   "cell_type": "code",
   "execution_count": 9,
   "id": "4f2b1aa6",
   "metadata": {},
   "outputs": [],
   "source": [
    "url = \"https://access-s.clide.cloud/files/global/seasonal/data/rain.forecast.median.seasonal.nc\"\n",
    "filename = \"rain.forecast.median.seasonal.nc\"\n",
    "\n",
    "response = requests.get(url)\n",
    "if response.status_code == 200:\n",
    "    with open(filename, 'wb') as f:\n",
    "        f.write(response.content)\n",
    "else:\n",
    "    print(f\"Failed to download file. Status code: {response.status_code}\")\n",
    "\n",
    "rf_seasonal_outlook_probability_dataset = xr.open_dataset(filename)"
   ]
  },
  {
   "cell_type": "code",
   "execution_count": 10,
   "id": "78d252e1",
   "metadata": {},
   "outputs": [
    {
     "name": "stdout",
     "output_type": "stream",
     "text": [
      "                           time         lon  lat      probF\n",
      "0 2025-03-16 20:00:56.249999872  134.583328  7.5  88.888885\n",
      "1 2025-04-16 00:00:00.000000000  134.583328  7.5  84.848488\n",
      "2 2025-05-16 12:00:00.000000000  134.583328  7.5  61.616161\n"
     ]
    }
   ],
   "source": [
    "rf_seasonal_outlook_probability = rf_seasonal_outlook_probability_dataset['probF'].sel(lat=lat, lon=lon, method='nearest')\n",
    "\n",
    "# Convert to a Pandas DataFrame\n",
    "rf_seasonal_outlook_probability_df = rf_seasonal_outlook_probability.to_dataframe().reset_index()\n",
    "print(rf_seasonal_outlook_probability_df)\n"
   ]
  },
  {
   "cell_type": "markdown",
   "id": "6c0d7a7f",
   "metadata": {},
   "source": [
    "---"
   ]
  },
  {
   "cell_type": "markdown",
   "id": "e1e379f1",
   "metadata": {},
   "source": [
    "**Seasonal rainfall outlook**: Anomaly (mm/day), 3-month period  \n",
    "Source: [CFSv2](https://www.cpc.ncep.noaa.gov/products/CFSv2/CFSv2_body.html)"
   ]
  },
  {
   "cell_type": "code",
   "execution_count": 42,
   "id": "78602199",
   "metadata": {},
   "outputs": [],
   "source": [
    "url = \"https://www.cpc.ncep.noaa.gov/products/CFSv2/dataInd1/glbPrecSea.nc\"\n",
    "filename = \"cfs.rainfall.seasonal.nc\"\n",
    "\n",
    "response = requests.get(url)\n",
    "if response.status_code == 200:\n",
    "    with open(filename, 'wb') as f:\n",
    "        f.write(response.content)\n",
    "else:\n",
    "    print(f\"Failed to download file. Status code: {response.status_code}\")\n",
    "\n",
    "cfs_dataset = xr.open_dataset(filename)"
   ]
  },
  {
   "cell_type": "code",
   "execution_count": 43,
   "id": "d126d98d",
   "metadata": {},
   "outputs": [
    {
     "name": "stdout",
     "output_type": "stream",
     "text": [
      "   ens       time  lev    lon     lat      anom\n",
      "0  1.0 2025-02-01  1.0  135.0  7.0866  2.116728\n",
      "1  1.0 2025-03-01  1.0  135.0  7.0866  0.742680\n",
      "2  1.0 2025-04-01  1.0  135.0  7.0866  0.131184\n",
      "3  1.0 2025-05-01  1.0  135.0  7.0866  0.763008\n",
      "4  1.0 2025-06-01  1.0  135.0  7.0866  1.363344\n",
      "5  1.0 2025-07-01  1.0  135.0  7.0866  0.919008\n"
     ]
    }
   ],
   "source": [
    "cfs = cfs_dataset['anom'].sel(lat=lat, lon=lon, method='nearest')\n",
    "\n",
    "# Convert to a Pandas DataFrame\n",
    "cfs_df = cfs.to_dataframe().reset_index()\n",
    "print(cfs_df)\n"
   ]
  }
 ],
 "metadata": {
  "kernelspec": {
   "display_name": "palau-env",
   "language": "python",
   "name": "python3"
  },
  "language_info": {
   "codemirror_mode": {
    "name": "ipython",
    "version": 3
   },
   "file_extension": ".py",
   "mimetype": "text/x-python",
   "name": "python",
   "nbconvert_exporter": "python",
   "pygments_lexer": "ipython3",
   "version": "3.11.5"
  }
 },
 "nbformat": 4,
 "nbformat_minor": 5
}
